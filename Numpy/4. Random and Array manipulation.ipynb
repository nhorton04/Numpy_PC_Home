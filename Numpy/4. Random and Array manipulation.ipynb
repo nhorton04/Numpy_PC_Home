{
 "cells": [
  {
   "cell_type": "markdown",
   "metadata": {},
   "source": [
    "### In this notebook we will look at\n",
    "\n",
    "random module\n",
    "\n",
    "array manipulations"
   ]
  },
  {
   "cell_type": "code",
   "execution_count": 2,
   "metadata": {},
   "outputs": [],
   "source": [
    "import numpy as np"
   ]
  },
  {
   "cell_type": "code",
   "execution_count": 3,
   "metadata": {},
   "outputs": [
    {
     "name": "stdout",
     "output_type": "stream",
     "text": [
      "[0.66499813 0.18422214 0.2409968 ]\n"
     ]
    }
   ],
   "source": [
    "# random.rand(x) will return an ndarray with x number of items that are \n",
    "# randomly selected between 0 and 1\n",
    "a = np.random.rand(3)\n",
    "print(a)"
   ]
  },
  {
   "cell_type": "code",
   "execution_count": 4,
   "metadata": {},
   "outputs": [
    {
     "name": "stdout",
     "output_type": "stream",
     "text": [
      "[0.18422214 0.2409968  0.66499813]\n"
     ]
    }
   ],
   "source": [
    "\"\"\"\n",
    "using sort() to sort the elements in an ndarrray\n",
    "sort(axis, kind)\n",
    "all arguments are optional\n",
    "axis can be specified, default -1 means sort along the last axis\n",
    "\n",
    "kind can be quicksort, mergesort or heapsort. Default is quicksort\n",
    "\"\"\"\n",
    "\n",
    "a.sort() \n",
    "print(a)"
   ]
  },
  {
   "cell_type": "code",
   "execution_count": 5,
   "metadata": {},
   "outputs": [
    {
     "name": "stdout",
     "output_type": "stream",
     "text": [
      "0.7889797048033659\n"
     ]
    }
   ],
   "source": [
    "# random.sample will return a random number from a uniform distribution from [0.0, 1.0)\n",
    "# 1.0 is not included\n",
    "c = np.random.sample()\n",
    "print(c)"
   ]
  },
  {
   "cell_type": "code",
   "execution_count": 6,
   "metadata": {},
   "outputs": [
    {
     "name": "stdout",
     "output_type": "stream",
     "text": [
      "6\n"
     ]
    }
   ],
   "source": [
    "# random.choice(n) will return a number from an ndarray n\n",
    "a = np.array([2, 6, 12, 18])\n",
    "print(np.random.choice(a))"
   ]
  },
  {
   "cell_type": "code",
   "execution_count": 7,
   "metadata": {},
   "outputs": [
    {
     "name": "stdout",
     "output_type": "stream",
     "text": [
      "3\n",
      "14\n",
      "[-7 -9]\n"
     ]
    }
   ],
   "source": [
    "\"\"\"\n",
    "random.randint(x) will return an integer from the interval  [0, x], both are included\n",
    "random.randint(x, y) will return an integer from [x, y]\n",
    "random.randint(x, y, n) will return n integers between x and y\n",
    "\"\"\"\n",
    "\n",
    "print(np.random.randint(5))\n",
    "print(np.random.randint(11, 15))\n",
    "print(np.random.randint(-10, -5, 2))"
   ]
  },
  {
   "cell_type": "code",
   "execution_count": 11,
   "metadata": {},
   "outputs": [
    {
     "name": "stdout",
     "output_type": "stream",
     "text": [
      "Lisa\n"
     ]
    }
   ],
   "source": [
    "\"\"\"\n",
    "In-class activity: \n",
    "From the list [\"Elizabeth\", \"Lisa\", \"Asha\", \"Mike\", \"Amit\"] choose a name\n",
    "\"\"\"\n",
    "print(np.random.choice([\"Elizabeth\", \"Lisa\", \"Asha\", \"Mike\", \"Amit\"]))"
   ]
  },
  {
   "cell_type": "code",
   "execution_count": 12,
   "metadata": {},
   "outputs": [
    {
     "name": "stdout",
     "output_type": "stream",
     "text": [
      "[[1.83231357 2.47835955]\n",
      " [3.15504756 4.84067398]]\n"
     ]
    }
   ],
   "source": [
    "\"\"\"\n",
    "In-class activity:\n",
    "Using random.rand create a 1D ndarray, then convert the values in the ndarray to integer \n",
    "and then choose a value from the new int adarray. At every step print the output. \n",
    "\n",
    "\"\"\"\n",
    "a = np.random.rand(2,2)*5\n",
    "print(a)\n"
   ]
  },
  {
   "cell_type": "markdown",
   "metadata": {},
   "source": [
    "#### Now we will look at the array manipulation"
   ]
  },
  {
   "cell_type": "code",
   "execution_count": 8,
   "metadata": {},
   "outputs": [
    {
     "name": "stdout",
     "output_type": "stream",
     "text": [
      "[[2 4]\n",
      " [7 9]]\n",
      "[[1 3]\n",
      " [6 5]]\n",
      "[[26 26]\n",
      " [61 66]]\n"
     ]
    }
   ],
   "source": [
    "a = np.array([[2, 4], [7, 9]])\n",
    "b = np.array([[1, 3], [6, 5]])\n",
    "print(a)\n",
    "print(b)\n",
    "print(a @ b)"
   ]
  },
  {
   "cell_type": "code",
   "execution_count": 9,
   "metadata": {},
   "outputs": [
    {
     "name": "stdout",
     "output_type": "stream",
     "text": [
      "[[ 3  7]\n",
      " [13 14]]\n"
     ]
    }
   ],
   "source": [
    "# using + operator we can compute element by element sum of two arrays\n",
    "print(a + b)"
   ]
  },
  {
   "cell_type": "code",
   "execution_count": 10,
   "metadata": {},
   "outputs": [
    {
     "name": "stdout",
     "output_type": "stream",
     "text": [
      "[[ 2 12]\n",
      " [42 45]]\n"
     ]
    }
   ],
   "source": [
    "# using * operator we can compute element by element multiplication of two arrays\n",
    "\n",
    "print(a * b) # element by element multiplication"
   ]
  },
  {
   "cell_type": "code",
   "execution_count": 11,
   "metadata": {},
   "outputs": [
    {
     "name": "stdout",
     "output_type": "stream",
     "text": [
      "[[1 1]\n",
      " [1 4]]\n"
     ]
    }
   ],
   "source": [
    "# using - operator we can compute element by element subtraction of two arrays\n",
    "\n",
    "print(a - b)"
   ]
  },
  {
   "cell_type": "code",
   "execution_count": 12,
   "metadata": {},
   "outputs": [
    {
     "name": "stdout",
     "output_type": "stream",
     "text": [
      "[[26 26]\n",
      " [61 66]]\n"
     ]
    }
   ],
   "source": [
    "# dot(a1, a2) will compute matrix multiplication\n",
    "\n",
    "print(np.dot(a, b)) # matrix multiplication "
   ]
  },
  {
   "cell_type": "code",
   "execution_count": 13,
   "metadata": {},
   "outputs": [
    {
     "name": "stdout",
     "output_type": "stream",
     "text": [
      "[[26 26]\n",
      " [61 66]]\n"
     ]
    }
   ],
   "source": [
    "# @ can be used to perform matrix multiplication \n",
    "# @  is called the 'infix' operator and is only available in Python 3.5+ (PEP 465)\n",
    "\n",
    "print(a @ b) "
   ]
  },
  {
   "cell_type": "code",
   "execution_count": 14,
   "metadata": {},
   "outputs": [
    {
     "name": "stdout",
     "output_type": "stream",
     "text": [
      "[[26 26]\n",
      " [61 66]]\n"
     ]
    }
   ],
   "source": [
    "# if we have matrices then we can perfrom matrix multiplication using matmul(a1, a2)\n",
    "\n",
    "print(np.matmul(a, b)) # matrix multiplication"
   ]
  },
  {
   "cell_type": "code",
   "execution_count": 15,
   "metadata": {},
   "outputs": [
    {
     "name": "stdout",
     "output_type": "stream",
     "text": [
      "[[ 4  5]\n",
      " [ 7  7]\n",
      " [ 9 10]]\n"
     ]
    }
   ],
   "source": [
    "# in an array transpose() will interchange the rows to columns \n",
    "# and vice-versa \n",
    "\n",
    "print(np.transpose([[4, 7, 9], [5, 7, 10]]))"
   ]
  },
  {
   "cell_type": "code",
   "execution_count": 16,
   "metadata": {},
   "outputs": [
    {
     "name": "stdout",
     "output_type": "stream",
     "text": [
      "[[ 3  5]\n",
      " [ 8 11]]\n",
      "[[ 3  8]\n",
      " [ 5 11]]\n"
     ]
    }
   ],
   "source": [
    "# T can also be used to transpose a matrix\n",
    "\n",
    "y = np.array([[3, 5], [8, 11]])\n",
    "print(y)\n",
    "print(y.T)"
   ]
  },
  {
   "cell_type": "code",
   "execution_count": 22,
   "metadata": {},
   "outputs": [
    {
     "name": "stdout",
     "output_type": "stream",
     "text": [
      "arr1[[1 2]\n",
      " [3 4]] * arr2[[5 6]\n",
      " [7 8]] = [[ 5 12]\n",
      " [21 32]]\n",
      "[[ 5 12]\n",
      " [21 32]]\n",
      "[[19 22]\n",
      " [43 50]]\n",
      "[[19 22]\n",
      " [43 50]]\n"
     ]
    }
   ],
   "source": [
    "\"\"\"\n",
    "In-class activity:\n",
    "Create two 2-by-2 ndarrays. Compute the following:\n",
    "\n",
    "1) Element by element multiplication\n",
    "\n",
    "2) Array multiplication using two different methods\n",
    "\"\"\"\n",
    "arr1 = np.array(([1,2], [3,4]))\n",
    "arr2 = np.array(([5,6], [7,8]))\n",
    "print(f'arr1{arr1} * arr2{arr2} = {arr1 * arr2}')\n",
    "print(arr1 * arr2)\n",
    "print(arr1 @ arr2)\n",
    "print(np.matmul(arr1, arr2))"
   ]
  },
  {
   "cell_type": "code",
   "execution_count": 33,
   "metadata": {},
   "outputs": [
    {
     "name": "stdout",
     "output_type": "stream",
     "text": [
      "[[1 2]\n",
      " [3 4]]\n",
      "array transposed = \n",
      "[[1 3]\n",
      " [2 4]]\n",
      "arr @ trans = \n",
      "[[ 5 11]\n",
      " [11 25]]\n",
      "arr * trans = \n",
      "[[ 1  6]\n",
      " [ 6 16]]\n"
     ]
    }
   ],
   "source": [
    "\"\"\"\n",
    "In-class activity:\n",
    "Create an 2-by-2 ndarray. Compute the following:\n",
    "\n",
    "1) Transpose of the ndarray\n",
    "\n",
    "2) array multiplication of the old array and the transposed array\n",
    "\"\"\"\n",
    "\n",
    "arr = np.array(([1,2],[3,4]))\n",
    "print(arr)\n",
    "print(f'array transposed = ')\n",
    "\n",
    "transposed = arr.T\n",
    "print(transposed)\n",
    "print(f'arr @ trans = ')\n",
    "print(arr @ transposed)\n",
    "print(f'arr * trans = ')\n",
    "print(arr * transposed)"
   ]
  },
  {
   "cell_type": "code",
   "execution_count": null,
   "metadata": {},
   "outputs": [],
   "source": []
  }
 ],
 "metadata": {
  "kernelspec": {
   "display_name": "Python 3",
   "language": "python",
   "name": "python3"
  },
  "language_info": {
   "codemirror_mode": {
    "name": "ipython",
    "version": 3
   },
   "file_extension": ".py",
   "mimetype": "text/x-python",
   "name": "python",
   "nbconvert_exporter": "python",
   "pygments_lexer": "ipython3",
   "version": "3.7.3"
  },
  "widgets": {
   "state": {},
   "version": "1.1.2"
  }
 },
 "nbformat": 4,
 "nbformat_minor": 2
}
